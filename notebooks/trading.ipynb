{
 "cells": [
  {
   "cell_type": "code",
   "execution_count": 5,
   "metadata": {},
   "outputs": [],
   "source": [
    "import numpy as np\n",
    "import matplotlib.pyplot as plt"
   ]
  },
  {
   "cell_type": "code",
   "execution_count": 6,
   "metadata": {},
   "outputs": [],
   "source": [
    "def generate_random_data(size, a=0.1, mu=100, sigma=0.1):\n",
    "    y = np.empty(size)\n",
    "    epsilon = np.random.normal(0, sigma, size)\n",
    "\n",
    "    y[0] = mu + epsilon[0]\n",
    "\n",
    "    for i in range(1, size):\n",
    "        y[i] = (1 - a) * mu + a * y[i-1] + epsilon[i]\n",
    "\n",
    "    return y"
   ]
  },
  {
   "cell_type": "code",
   "execution_count": 182,
   "metadata": {},
   "outputs": [
    {
     "data": {
      "text/plain": [
       "array([101, 102, 103, 104, 105, 106, 107, 108, 109])"
      ]
     },
     "execution_count": 182,
     "metadata": {},
     "output_type": "execute_result"
    }
   ],
   "source": [
    "y = np.array([1, 2, 3, 4, 5, 6, 7, 8, 9, 10])\n",
    "y[:-1] + 100"
   ]
  },
  {
   "cell_type": "code",
   "execution_count": 183,
   "metadata": {},
   "outputs": [
    {
     "data": {
      "text/plain": [
       "array([ 0,  0,  0,  0,  5,  6,  7,  8,  9, 10])"
      ]
     },
     "execution_count": 183,
     "metadata": {},
     "output_type": "execute_result"
    }
   ],
   "source": [
    "(y >= 5) * y"
   ]
  },
  {
   "cell_type": "code",
   "execution_count": 156,
   "metadata": {},
   "outputs": [
    {
     "data": {
      "text/plain": [
       "(10, 10)"
      ]
     },
     "execution_count": 156,
     "metadata": {},
     "output_type": "execute_result"
    }
   ],
   "source": [
    "y.shape + (10, )"
   ]
  },
  {
   "cell_type": "code",
   "execution_count": 262,
   "metadata": {},
   "outputs": [],
   "source": [
    "def predict(y_prev, a=0.1, mu=100, sigma=0.1, predictions_n=1000):\n",
    "    epsilon = np.random.normal(0, sigma, y_prev.shape + (predictions_n, ))\n",
    "    \n",
    "    return (1 - a) * mu + a * y_prev.reshape(-1, 1) + epsilon"
   ]
  },
  {
   "cell_type": "code",
   "execution_count": 263,
   "metadata": {},
   "outputs": [
    {
     "data": {
      "text/plain": [
       "array([[ 99.9927683 , 100.10680112, 100.27643408],\n",
       "       [ 99.94366562, 100.18562178, 100.06917133],\n",
       "       [100.3570044 , 100.26659739, 100.26579278],\n",
       "       ...,\n",
       "       [100.05490005, 100.16069878, 100.14615646],\n",
       "       [100.01060799, 100.1682735 , 100.20435921],\n",
       "       [100.04356813,  99.94472475,  99.8372167 ]])"
      ]
     },
     "execution_count": 263,
     "metadata": {},
     "output_type": "execute_result"
    }
   ],
   "source": [
    "z = predict(y, predictions_n=3)\n",
    "z"
   ]
  },
  {
   "cell_type": "code",
   "execution_count": 172,
   "metadata": {},
   "outputs": [
    {
     "data": {
      "text/plain": [
       "array([90.08329659, 90.25025579, 90.27451239, 90.42971648, 90.44865308,\n",
       "       90.68670749, 90.64005028, 90.82861378, 90.85157312, 90.93999337])"
      ]
     },
     "execution_count": 172,
     "metadata": {},
     "output_type": "execute_result"
    }
   ],
   "source": [
    "z.mean(axis=1)"
   ]
  },
  {
   "cell_type": "code",
   "execution_count": 35,
   "metadata": {},
   "outputs": [],
   "source": [
    "def get_predictive_distribution(y_prev, size=1000, a=0.1, mu=100, sigma=0.1):\n",
    "    predictions = [predict(y_prev, a=a, mu=mu, sigma=sigma) for _ in range(size)]\n",
    "\n",
    "    return np.array(predictions)\n",
    "    "
   ]
  },
  {
   "cell_type": "code",
   "execution_count": 68,
   "metadata": {},
   "outputs": [
    {
     "data": {
      "text/plain": [
       "103.60787679742653"
      ]
     },
     "execution_count": 68,
     "metadata": {},
     "output_type": "execute_result"
    }
   ],
   "source": [
    "predictive_distr = get_predictive_distribution(104, size=10000, a=0.9, mu=100, sigma=1)\n",
    "predictive_distr.mean()"
   ]
  },
  {
   "cell_type": "code",
   "execution_count": 117,
   "metadata": {},
   "outputs": [
    {
     "data": {
      "image/png": "[encoded data removed]",
      "text/plain": [
       "<Figure size 1152x360 with 1 Axes>"
      ]
     },
     "metadata": {
      "needs_background": "light"
     },
     "output_type": "display_data"
    }
   ],
   "source": [
    "size = 100\n",
    "y = generate_random_data(size, a=0.99999, mu=100, sigma=10)\n",
    "x = np.arange(size)\n",
    "\n",
    "idx = 5\n",
    "plt.figure(figsize=(16, 5))\n",
    "plt.scatter(x[idx:], y[idx:])\n",
    "plt.show()\n"
   ]
  },
  {
   "cell_type": "code",
   "execution_count": 130,
   "metadata": {},
   "outputs": [],
   "source": [
    "def optimal(y):\n",
    "    return np.max(y)"
   ]
  },
  {
   "cell_type": "code",
   "execution_count": 319,
   "metadata": {},
   "outputs": [],
   "source": [
    "from scipy.optimize import fsolve, brentq, bisect\n",
    "\n",
    "def tb_algorithm(y):\n",
    "    m, M = y.min(), y.max()\n",
    "\n",
    "    f_c = lambda c: np.log((M - m) / (m * (c - 1))) - c\n",
    "    c = bisect(f_c, 1 + 1e-8, 1000, maxiter=10000)\n",
    "\n",
    "    y_highest = y[0]\n",
    "\n",
    "    utility = 0\n",
    "    d = 1\n",
    "\n",
    "    for y_i in y[1:]:\n",
    "        if y_i > y_highest:\n",
    "            x_i = (1 / c) * (y_i - y_highest) / (y_i - m)\n",
    "            y_highest = y_i\n",
    "\n",
    "            utility += x_i * y_i            \n",
    "            d -= x_i\n",
    "\n",
    "            if d == 0.0:\n",
    "                break\n",
    "\n",
    "    utility += d * y[-1]\n",
    "\n",
    "    return utility\n",
    "    "
   ]
  },
  {
   "cell_type": "code",
   "execution_count": 318,
   "metadata": {},
   "outputs": [
    {
     "data": {
      "text/plain": [
       "103.15414331875101"
      ]
     },
     "execution_count": 318,
     "metadata": {},
     "output_type": "execute_result"
    }
   ],
   "source": [
    "tb_algorithm(generate_random_data(500, a=0.9, mu=100, sigma=1))"
   ]
  },
  {
   "cell_type": "code",
   "execution_count": 333,
   "metadata": {},
   "outputs": [],
   "source": [
    "def algorithm(y, size=1000, alpha=1, a=0.9, mu=100, sigma=0.1):\n",
    "    d = 1\n",
    "    utility = 0\n",
    "\n",
    "    y_prev = y[:-1]\n",
    "    y_true = y[1:]\n",
    "\n",
    "    y_pred = predict(y_prev, predictions_n=size, a=a, mu=mu, sigma=sigma)\n",
    "    y_pred_mean = y_pred.mean(axis=1)\n",
    "\n",
    "    x = (y_true > y_pred_mean) * np.tanh((y_true - y_pred_mean) / y_pred_mean)\n",
    "\n",
    "    i = 0\n",
    "    while d > 0 and i < len(y_true):\n",
    "        amount = min(x[i], d)\n",
    "        utility += amount * y_true[i]\n",
    "        d -= amount\n",
    "        i += 1\n",
    "\n",
    "    utility += d * y_true[-1]\n",
    "\n",
    "    return utility"
   ]
  },
  {
   "cell_type": "code",
   "execution_count": 345,
   "metadata": {},
   "outputs": [
    {
     "data": {
      "text/plain": [
       "(117.31950235853033, 100.6980251457003, 94.17591561916659)"
      ]
     },
     "execution_count": 345,
     "metadata": {},
     "output_type": "execute_result"
    }
   ],
   "source": [
    "a = 0.9999999\n",
    "mu = 100\n",
    "sigma = 1\n",
    "alpha = 0.5\n",
    "size = 5000\n",
    "\n",
    "random_data = [generate_random_data(500, a=a, mu=mu, sigma=sigma) for _ in range(500)]\n",
    "\n",
    "optimal_utility = np.array([\n",
    "    optimal(random_data[i]) \n",
    "    for i in range(500)\n",
    "])\n",
    "\n",
    "algorithm_utility = np.array([\n",
    "    algorithm(random_data[i],\n",
    "              size=500, alpha=alpha, a=a, mu=mu, sigma=sigma)\n",
    "    for i in range(500)\n",
    "])\n",
    "\n",
    "tb_algorithm_utility = np.array([\n",
    "    tb_algorithm(random_data[i])\n",
    "    for i in range(500)\n",
    "])\n",
    "\n",
    "\n",
    "optimal_utility.mean(), algorithm_utility.mean(), tb_algorithm_utility.mean()\n",
    "# algorithm_utility.mean()"
   ]
  },
  {
   "cell_type": "code",
   "execution_count": null,
   "metadata": {},
   "outputs": [],
   "source": []
  }
 ],
 "metadata": {
  "interpreter": {
   "hash": "1918e5fbe82d7c5cd9e770aca47f44a313c0c1a9f4917a959421059c871e4335"
  },
  "kernelspec": {
   "display_name": "Python 3.9.6 64-bit ('venv': venv)",
   "name": "python3"
  },
  "language_info": {
   "codemirror_mode": {
    "name": "ipython",
    "version": 3
   },
   "file_extension": ".py",
   "mimetype": "text/x-python",
   "name": "python",
   "nbconvert_exporter": "python",
   "pygments_lexer": "ipython3",
   "version": "3.9.6"
  },
  "orig_nbformat": 4
 },
 "nbformat": 4,
 "nbformat_minor": 2
}
